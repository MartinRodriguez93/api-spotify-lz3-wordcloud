import pandas as pd
import requests
import matplotlib.pyplot as plt
import numpy as np
import json
from wordcloud import WordCloud

#App ID and Secret Key (source: https://developer.spotify.com/documentation/web-api/quick-start/):
cid = 'XXX'
secret = 'XXX'

#Guide: https://stackoverflow.com/questions/55927009/how-to-access-spotifys-web-api-with-client-id-and-secret
#Option Client Credentials Flow: https://developer.spotify.com/documentation/general/guides/authorization-guide/

grant_type='client_credentials'
body_params={'grant_type' : grant_type}

url='https://accounts.spotify.com/api/token'
response=requests.post(url,
                         data=body_params,
                         auth=(cid, secret)
                        ) 
response.status_code

#Token for header:
token_raw=json.loads(response.text)
token=token_raw["access_token"]

#API documentation: https://developer.spotify.com/documentation/web-api/reference/#endpoint-get-an-artist
#Artists URIs: https://www.kaggle.com/ehcall/spotify-artists

#Led Zeppelin URI:
artists_uris=pd.read_csv('/Users/martinrodriguez/Archivos Martin/Data Analytics/GitHub/api-spotify/artist-uris.csv.csv',
                         names=['Artist','URI'])
list(artists_uris.loc[artists_uris['Artist']=='Led Zeppelin',:]['URI'])

# An access_token is generated and sent back to you.
# Bearer can be simply understood as "give access to the bearer of this token".
# One valid token and no question asked. 

#LZ III URI: https://open.spotify.com/album/6P5QHz4XtxOmS5EuiGIPut
headers={"Authorization":'Bearer '+token}
lz3=requests.get(url='https://api.spotify.com/v1/albums/6P5QHz4XtxOmS5EuiGIPut', headers=headers)

#LZ III list of songs:
lz3_song_name=[i.replace(" ", "").replace("-Remaster", "").replace("-", "").replace("(", "").replace(")", "") for i in pd.json_normalize(lz3.json()['tracks']['items'])['name']]

#LZ III list of songs URIs to link with the 'tracks API':
lz3_song_id=[i for i in pd.json_normalize(lz3.json()['tracks']['items'])['id']]

#The popularity rating is based on total number of plays compared to other tracks
#as well as how recent those plays are.
#Spotify Popularity is an extremely important value that Spotify
#uses internally to rank all artists and tracks on a scale from 0 to 100.

#List of each LZIII song popularity:
headers={"Authorization":'Bearer '+token}
lz3_song_pop=[pd.json_normalize(requests.get(url='https://api.spotify.com/v1/tracks/'+i, headers=headers).json())['popularity'][0] for i in lz3_song_id]

#DF
data={'name':lz3_song_name,'pop':lz3_song_pop}
df_lz3=pd.DataFrame(data)
df_lz3=df_lz3.sort_values('pop',ascending=False).reset_index(drop=True)

#Unigram of pop for WordCloud (each song times its pop):
unigram_lz3=sum([[s] * n for s, n in zip(list(df_lz3['name']), list(df_lz3['pop']))], [])

#Check unigram len (should be 0:)
len(unigram)-sum(list(df_lz3['pop']))

#Zeppelin pictogram mask:
from PIL import Image
zep_pictogram=np.array(Image.open('zep_pictogram.png'))

#If an image doesn’t include “255” values for pure white, you should use “Numpy” for turning “0” values to “255”.
# so, an image can be used for masking purposes within a word cloud.
zep_pictogram=np.where(zep_pictogram==0, 255, zep_pictogram) 
mask = np.array(zep_pictogram)

#Zeppelin WordCloud:
plt.figure(figsize=(20,10))
wordcloud=WordCloud(width=500,
                    height=500,
                    max_font_size=200,
                    max_words=100,
                    random_state=1,
                    background_color='white',
                    collocations=False,
                    colormap='Set2',#Source: https://matplotlib.org/stable/tutorials/colors/colormaps.html
                    mask=mask
                   ).generate(' '.join(unigram_lz3))
plt.imshow(wordcloud)
plt.axis('off')
plt.show()
